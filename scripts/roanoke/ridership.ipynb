{
 "cells": [
  {
   "metadata": {},
   "cell_type": "code",
   "source": [
    "import os\n",
    "import pathlib\n",
    "import sys\n",
    "\n",
    "import pandas as pd\n",
    "\n",
    "pd.options.mode.copy_on_write = True\n",
    "pd.options.display.max_columns = None\n",
    "\n",
    "from transit import vmgo\n",
    "\n",
    "module_path = os.path.abspath(os.path.join('..'))\n",
    "if module_path not in sys.path:\n",
    "    sys.path.append(module_path)"
   ],
   "id": "670e2244868fe715",
   "outputs": [],
   "execution_count": null
  },
  {
   "cell_type": "code",
   "id": "initial_id",
   "metadata": {
    "collapsed": true
   },
   "source": [
    "data_path = pathlib.Path(os.path.abspath(\"../data\"))\n",
    "data_path"
   ],
   "outputs": [],
   "execution_count": null
  },
  {
   "metadata": {},
   "cell_type": "code",
   "source": [
    "output_path = pathlib.Path(os.path.abspath(\"../output/roanoke\"))\n",
    "output_path.mkdir(exist_ok=True, parents=True)\n",
    "output_path"
   ],
   "id": "776b89b193235a34",
   "outputs": [],
   "execution_count": null
  },
  {
   "metadata": {},
   "cell_type": "code",
   "source": [
    "plot_path = pathlib.Path(output_path / 'plots')\n",
    "plot_path.mkdir(exist_ok=True)\n",
    "plot_path"
   ],
   "id": "c08aa34d681c3122",
   "outputs": [],
   "execution_count": null
  },
  {
   "metadata": {},
   "cell_type": "code",
   "source": [
    "df_alighting = pd.read_csv(\n",
    "    str(data_path / 'roanoke' / 'Alighting-May24-Apr25.csv'),\n",
    "    header=[2],\n",
    "    low_memory=False,\n",
    "    skip_blank_lines=True,\n",
    ")\n",
    "df_alighting"
   ],
   "id": "4b480d798cf05bf",
   "outputs": [],
   "execution_count": null
  },
  {
   "metadata": {},
   "cell_type": "code",
   "source": [
    "df_boarding = pd.read_csv(\n",
    "    str(data_path / 'roanoke' / 'Boarding-May24-Apr25.csv'),\n",
    "    header=[2],\n",
    "    low_memory=False,\n",
    "    skip_blank_lines=True,\n",
    ")\n",
    "df_boarding"
   ],
   "id": "c812fb5cbe68dc64",
   "outputs": [],
   "execution_count": null
  },
  {
   "metadata": {},
   "cell_type": "code",
   "source": [
    "df_ridership = (\n",
    "    df_alighting.set_index('Stop Name')\n",
    "    .join(\n",
    "        df_boarding.set_index('Stop Name'),\n",
    "        on='Stop Name',\n",
    "        how='outer'\n",
    "    )\n",
    "    .reset_index()\n",
    ")\n",
    "df_ridership['Stop Name'] = df_ridership['Stop Name'].str.replace(' (no number)', '')\n",
    "df_ridership"
   ],
   "id": "67b87e0005902fa5",
   "outputs": [],
   "execution_count": null
  },
  {
   "metadata": {},
   "cell_type": "code",
   "source": [
    "regions = vmgo.load_from_datadir(data_path / 'vmgo')\n",
    "regions"
   ],
   "id": "3c449ee19d877762",
   "outputs": [],
   "execution_count": null
  },
  {
   "metadata": {},
   "cell_type": "code",
   "source": [
    "# create dataframe rows\n",
    "rows = []\n",
    "\n",
    "for region in regions.values():\n",
    "    for route in region.routes:\n",
    "        for directions in route.directions:\n",
    "            for stop in directions.stops:\n",
    "                rows.append({\n",
    "                    \"region\": region.name,\n",
    "                    \"route\": route.name,\n",
    "                    \"direction\": directions.name,\n",
    "                    \"stop\": stop.name,\n",
    "                    \"lat\": stop.lat,\n",
    "                    \"lon\": stop.lon,\n",
    "                })\n",
    "df_routes = pd.DataFrame(rows)\n",
    "df_routes"
   ],
   "id": "ff38cce575bf3c43",
   "outputs": [],
   "execution_count": null
  },
  {
   "metadata": {},
   "cell_type": "code",
   "source": [
    "df = df_routes.groupby(['stop']).count()\n",
    "df['route_count'] = df['direction']\n",
    "df = df.reset_index()[['stop', 'route_count']]\n",
    "df_stop_route_count = df\n",
    "df_stop_route_count"
   ],
   "id": "161fc21f47e341f3",
   "outputs": [],
   "execution_count": null
  },
  {
   "metadata": {},
   "cell_type": "code",
   "source": [
    "df = df_routes.merge(\n",
    "    df_ridership.rename(\n",
    "        columns={\n",
    "            \"Stop Name\": \"stop\",\n",
    "            \"Sum of Passenger Alightings\": \"alightings\",\n",
    "            \"Sum of Passenger Boardings\": \"boardings\",\n",
    "        }\n",
    "    ),\n",
    "    on='stop',\n",
    "    how='left',\n",
    ").merge(\n",
    "    df_stop_route_count,\n",
    "    on='stop',\n",
    "    how='left',\n",
    ")\n",
    "df['alightings'] = df['alightings'].str.replace(',', '').astype(float)\n",
    "df['boardings'] = df['boardings'].str.replace(',', '').astype(float)\n",
    "df = df.fillna(0)\n",
    "df_route_ridership = df\n",
    "df_route_ridership"
   ],
   "id": "9e9d0ae778437536",
   "outputs": [],
   "execution_count": null
  },
  {
   "metadata": {},
   "cell_type": "code",
   "source": [
    "ridership_path = output_path / 'ridership'\n",
    "ridership_path.mkdir(exist_ok=True)\n",
    "\n",
    "df_route_ridership.sort_values('boardings', ascending=False).to_csv(\n",
    "    ridership_path / 'ridership-with-stops-sorted-boarding.csv')\n",
    "df_route_ridership.sort_values('alightings', ascending=False).to_csv(\n",
    "    ridership_path / 'ridership-with-stops-sorted-alighting.csv')"
   ],
   "id": "ea5ec11a048fec5e",
   "outputs": [],
   "execution_count": null
  },
  {
   "metadata": {},
   "cell_type": "code",
   "source": [
    "df_stop_lat_lons = df_route_ridership[['stop', 'lat', 'lon']].drop_duplicates()\n",
    "df_stop_lat_lons"
   ],
   "id": "1b3998f900034bb4",
   "outputs": [],
   "execution_count": null
  },
  {
   "metadata": {},
   "cell_type": "code",
   "source": [
    "df = df_stop_lat_lons.merge(\n",
    "    df_ridership.rename(\n",
    "        columns={\n",
    "            \"Stop Name\": \"stop\",\n",
    "            \"Sum of Passenger Alightings\": \"alightings\",\n",
    "            \"Sum of Passenger Boardings\": \"boardings\",\n",
    "        }\n",
    "    ),\n",
    "    on='stop',\n",
    "    how='left',\n",
    ")\n",
    "df['alightings'] = df['alightings'].str.replace(',', '').astype(float)\n",
    "df['boardings'] = df['boardings'].str.replace(',', '').astype(float)\n",
    "#df = df.fillna(0)\n",
    "df_stop_ridership = df\n",
    "df_stop_ridership"
   ],
   "id": "cc731702873df1d6",
   "outputs": [],
   "execution_count": null
  },
  {
   "metadata": {},
   "cell_type": "code",
   "source": [
    "import ipyleaflet.basemaps\n",
    "import ipywidgets\n",
    "\n",
    "pymap = ipyleaflet.Map(\n",
    "    center=(df_routes['lat'].mean(), df_routes['lon'].mean()), zoom=12, min_zoom=1, max_zoom=20,\n",
    "    layout=ipywidgets.Layout(width='auto', min_height='400px')\n",
    ")\n",
    "\n",
    "markers = []\n",
    "for index, row in df_stop_ridership.sort_values('alightings', ascending=False)[:40].iterrows():\n",
    "    html = ''.join([\n",
    "        '<span style=\"color:#000; font-size:8pt;\">',\n",
    "        row['stop'],\n",
    "        '<br/>',\n",
    "        f\"{int(row['boardings'])} boarded / {int(row['alightings'])} alighted\",\n",
    "        '</span',\n",
    "    ])\n",
    "    icon = ipyleaflet.DivIcon(html=html, bg_pos=[0, 0], icon_size=[100, 70])\n",
    "    marker = ipyleaflet.Marker(\n",
    "        location=(row['lat'], row['lon']),\n",
    "        title=row['stop'],\n",
    "        icon=icon,\n",
    "        draggable=False,\n",
    "    )\n",
    "    markers.append(marker)\n",
    "\n",
    "marker_cluster = ipyleaflet.MarkerCluster(markers=markers)\n",
    "pymap.add(marker_cluster)\n",
    "pymap.save(output_path / 'ridership' / 'map-top-40-alightings.html', title='Top 40 Stops by Alighting Numbers')\n",
    "pymap"
   ],
   "id": "af3efc713b24480a",
   "outputs": [],
   "execution_count": null
  },
  {
   "metadata": {},
   "cell_type": "code",
   "source": [
    "import matplotlib.pyplot as plt\n",
    "import shutil"
   ],
   "id": "ae9dc2a2900f88c3",
   "outputs": [],
   "execution_count": null
  },
  {
   "metadata": {},
   "cell_type": "code",
   "source": "routes_and_directions = df_route_ridership[['route', 'direction']].drop_duplicates()",
   "id": "5c492019890c9836",
   "outputs": [],
   "execution_count": null
  },
  {
   "metadata": {},
   "cell_type": "code",
   "source": [
    "plot_dir = plot_path / 'ridership-full-raw'\n",
    "shutil.rmtree(plot_dir, ignore_errors=True)\n",
    "plot_dir.mkdir(exist_ok=True)\n",
    "\n",
    "for index, row in routes_and_directions.iterrows():\n",
    "    df = df_route_ridership\n",
    "    df = df[(df['route'] == row['route']) & (df['direction'] == row['direction'])]\n",
    "\n",
    "    fig, ax = plt.subplots(layout='constrained')\n",
    "    fig.set_size_inches(12, 8)\n",
    "\n",
    "    ax.set_title('\\n'.join([\n",
    "        'Roanoke, VA - Boarding/Alighting: May 1, 2024 - April 30, 2025',\n",
    "        row['route'],\n",
    "        row['direction'],\n",
    "        '(some stops are shared with other routes)',\n",
    "    ]))\n",
    "        \n",
    "    ax.bar(df['stop'], df['boardings'] / df['route_count'], color='blue', label='boardings')\n",
    "    ax.bar(df['stop'], -df['alightings'] / df['route_count'], color='red', label='alightings')\n",
    "    ax.legend(loc=\"best\")\n",
    "\n",
    "    ax.tick_params(axis='x', labelrotation=90)\n",
    "\n",
    "    # plt.show()\n",
    "    plt.savefig(plot_dir / f'{row[\"route\"].strip().replace('/', ' or ')} --- {row[\"direction\"].strip().replace('/', ' or ')}.png')\n",
    "    plt.close()"
   ],
   "id": "e8755a4c617412d7",
   "outputs": [],
   "execution_count": null
  },
  {
   "metadata": {},
   "cell_type": "code",
   "source": [
    "plot_dir = plot_path / 'ridership-full-adjusted'\n",
    "shutil.rmtree(plot_dir, ignore_errors=True)\n",
    "plot_dir.mkdir(exist_ok=True)\n",
    "\n",
    "for index, row in routes_and_directions.iterrows():\n",
    "    df = df_route_ridership\n",
    "    df = df[(df['route'] == row['route']) & (df['direction'] == row['direction'])]\n",
    "\n",
    "    fig, ax = plt.subplots(layout='constrained')\n",
    "    fig.set_size_inches(12, 8)\n",
    "\n",
    "    ax.set_title('\\n'.join([\n",
    "        'Roanoke, VA - Adjusted Boarding/Alighting: May 1, 2024 - April 30, 2025',\n",
    "        row['route'],\n",
    "        row['direction'],\n",
    "        '(with total ridership of shared stops divided by number of shared routes)',\n",
    "    ]))\n",
    "        \n",
    "    ax.bar(df['stop'], df['boardings'] / df['route_count'], color='blue', label='boardings')\n",
    "    ax.bar(df['stop'], -df['alightings'] / df['route_count'], color='red', label='alightings')\n",
    "    ax.legend(loc=\"best\")\n",
    "\n",
    "    ax.tick_params(axis='x', labelrotation=90)\n",
    "\n",
    "    # plt.show()\n",
    "    plt.savefig(plot_dir / f'{row[\"route\"].strip().replace('/', ' or ')} --- {row[\"direction\"].strip().replace('/', ' or ')}.png')\n",
    "    plt.close()"
   ],
   "id": "f6766cf1f0e47df1",
   "outputs": [],
   "execution_count": null
  },
  {
   "metadata": {},
   "cell_type": "code",
   "source": [
    "plot_dir = plot_path / 'ridership-less-than-10000'\n",
    "shutil.rmtree(plot_dir, ignore_errors=True)\n",
    "plot_dir.mkdir(exist_ok=True)\n",
    "\n",
    "for index, row in routes_and_directions.iterrows():\n",
    "    df = df_route_ridership\n",
    "    df = df[(df['route'] == row['route']) & (df['direction'] == row['direction'])]\n",
    "    df = df[df['boardings'] < 10000]\n",
    "    df = df[df['alightings'] < 10000]\n",
    "\n",
    "    fig, ax = plt.subplots(layout='constrained')\n",
    "    fig.set_size_inches(12, 6)\n",
    "\n",
    "    ax.set_title('Roanoke, VA Boarding/Alighting: May 1, 2024 - April 30, 2025\\n' + row['route'] + '\\n' + row[\n",
    "        'direction'] + '\\n(Stops with < 10,0000 boarders/alighters)')\n",
    "    ax.bar(df['stop'], df['boardings'], color='blue', label='boardings')\n",
    "    ax.bar(df['stop'], -df['alightings'], color='red', label='alightings')\n",
    "    ax.legend(loc=\"best\")\n",
    "\n",
    "    ax.tick_params(axis='x', labelrotation=90)\n",
    "\n",
    "    #plt.show()\n",
    "    plt.savefig(plot_dir / f'{row[\"route\"].strip().replace('/', ' or ')} --- {row[\"direction\"].strip().replace('/', ' or ')}.png')\n",
    "    plt.close()"
   ],
   "id": "933447a1106e4367",
   "outputs": [],
   "execution_count": null
  },
  {
   "metadata": {},
   "cell_type": "code",
   "source": "",
   "id": "5981e9a3ee930b28",
   "outputs": [],
   "execution_count": null
  }
 ],
 "metadata": {
  "kernelspec": {
   "display_name": "Python 3",
   "language": "python",
   "name": "python3"
  },
  "language_info": {
   "codemirror_mode": {
    "name": "ipython",
    "version": 2
   },
   "file_extension": ".py",
   "mimetype": "text/x-python",
   "name": "python",
   "nbconvert_exporter": "python",
   "pygments_lexer": "ipython2",
   "version": "2.7.6"
  }
 },
 "nbformat": 4,
 "nbformat_minor": 5
}
